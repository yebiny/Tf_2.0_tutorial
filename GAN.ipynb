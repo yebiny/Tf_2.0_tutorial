{
  "nbformat": 4,
  "nbformat_minor": 0,
  "metadata": {
    "colab": {
      "name": "GAN",
      "version": "0.3.2",
      "provenance": [],
      "collapsed_sections": [],
      "include_colab_link": true
    },
    "kernelspec": {
      "name": "python3",
      "display_name": "Python 3"
    },
    "accelerator": "GPU"
  },
  "cells": [
    {
      "cell_type": "markdown",
      "metadata": {
        "id": "view-in-github",
        "colab_type": "text"
      },
      "source": [
        "<a href=\"https://colab.research.google.com/github/yebiny/GANexample/blob/master/GAN.ipynb\" target=\"_parent\"><img src=\"https://colab.research.google.com/assets/colab-badge.svg\" alt=\"Open In Colab\"/></a>"
      ]
    },
    {
      "cell_type": "markdown",
      "metadata": {
        "id": "93Iy-2PioBpy",
        "colab_type": "text"
      },
      "source": [
        "# GAN\n"
      ]
    },
    {
      "cell_type": "markdown",
      "metadata": {
        "id": "sJcu22NNsm1V",
        "colab_type": "text"
      },
      "source": [
        "## Library import"
      ]
    },
    {
      "cell_type": "code",
      "metadata": {
        "id": "cL5jRwOhn7L_",
        "colab_type": "code",
        "colab": {}
      },
      "source": [
        "import tensorflow as tf\n",
        "import matplotlib.pyplot as plt\n",
        "import numpy as np\n"
      ],
      "execution_count": 0,
      "outputs": []
    },
    {
      "cell_type": "code",
      "metadata": {
        "id": "FedbxK73oB-a",
        "colab_type": "code",
        "colab": {
          "base_uri": "https://localhost:8080/",
          "height": 89
        },
        "outputId": "6fc7a004-9505-4edb-b574-e26a3aaab771"
      },
      "source": [
        "from tensorflow.examples.tutorials.mnist import input_data\n",
        "mnist = input_data.read_data_sets(\"./mnist/data/\", one_hot=True)"
      ],
      "execution_count": 39,
      "outputs": [
        {
          "output_type": "stream",
          "text": [
            "Extracting ./mnist/data/train-images-idx3-ubyte.gz\n",
            "Extracting ./mnist/data/train-labels-idx1-ubyte.gz\n",
            "Extracting ./mnist/data/t10k-images-idx3-ubyte.gz\n",
            "Extracting ./mnist/data/t10k-labels-idx1-ubyte.gz\n"
          ],
          "name": "stdout"
        }
      ]
    },
    {
      "cell_type": "markdown",
      "metadata": {
        "id": "EHzNcWmMoTG5",
        "colab_type": "text"
      },
      "source": [
        "## hyper parameter"
      ]
    },
    {
      "cell_type": "code",
      "metadata": {
        "id": "-iWkHdAeoCb5",
        "colab_type": "code",
        "colab": {}
      },
      "source": [
        "total_epoch = 30\n",
        "batch_size = 100\n",
        "learning_rate = 0.0002"
      ],
      "execution_count": 0,
      "outputs": []
    },
    {
      "cell_type": "markdown",
      "metadata": {
        "id": "8LGbBVBOohHJ",
        "colab_type": "text"
      },
      "source": [
        "## cell option parameter"
      ]
    },
    {
      "cell_type": "code",
      "metadata": {
        "id": "zHW7GSbWolWG",
        "colab_type": "code",
        "colab": {}
      },
      "source": [
        "n_hidden = 256\n",
        "n_input = 28*28\n",
        "n_noise = 128"
      ],
      "execution_count": 0,
      "outputs": []
    },
    {
      "cell_type": "code",
      "metadata": {
        "id": "JxHkBoRVoriH",
        "colab_type": "code",
        "colab": {}
      },
      "source": [
        "X = tf.placeholder(tf.float32, [None, n_input]) \n",
        "Z = tf.placeholder(tf.float32, [None, n_noise])"
      ],
      "execution_count": 0,
      "outputs": []
    },
    {
      "cell_type": "markdown",
      "metadata": {
        "id": "2f-jJNFto2o6",
        "colab_type": "text"
      },
      "source": [
        "## Generator\n",
        "* hidden layer는 relu 사용하며 noise_z가 input으로 들어갑니다.\n",
        "* output은 sigmoid를 사용하여 0과 1사이 값으로 output이 나오도록 합니다."
      ]
    },
    {
      "cell_type": "code",
      "metadata": {
        "id": "0-KgdKfFo35V",
        "colab_type": "code",
        "colab": {}
      },
      "source": [
        "G_W1 = tf.Variable(tf.random_normal([n_noise, n_hidden], stddev=0.01))\n",
        "G_b1 = tf.Variable(tf.zeros([n_hidden])) \n",
        "\n",
        "G_W2 = tf.Variable(tf.random_normal([n_hidden, n_input], stddev=0.01))\n",
        "G_b2 = tf.Variable(tf.zeros([n_input]))\n",
        "\n",
        "def generator(noise_z):\n",
        "    hidden = tf.nn.relu(tf.matmul(noise_z, G_W1) + G_b1) \n",
        "    output = tf.nn.sigmoid(tf.matmul(hidden, G_W2) + G_b2)\n",
        "    return output\n",
        "  \n",
        "G_var_list = [G_W1, G_b1, G_W2, G_b2]"
      ],
      "execution_count": 0,
      "outputs": []
    },
    {
      "cell_type": "markdown",
      "metadata": {
        "id": "hj8WNxHDo_qR",
        "colab_type": "text"
      },
      "source": [
        "## Discriminator\n",
        "* Distriminator의 최종 결과값은 얼마나 진짜와 가깝냐를 판단하는 한 개의 스칼라값으로 나타납니다.\n",
        "* 따라서 숫자 하나를 0으로 초기화합니다. \n",
        "* 첫번째 layer에서 relu를 사용하고 output은 sigmoid를 이용하여 0에서 1 사이 값을 출력합니다."
      ]
    },
    {
      "cell_type": "code",
      "metadata": {
        "id": "YgSJAJQOo_yx",
        "colab_type": "code",
        "colab": {}
      },
      "source": [
        "D_W1 = tf.Variable(tf.random_normal([n_input, n_hidden], stddev=0.01))\n",
        "D_b1 = tf.Variable(tf.zeros([n_hidden]))\n",
        "\n",
        "\n",
        "D_W2 = tf.Variable(tf.random_normal([n_hidden, 1], stddev=0.01))\n",
        "D_b2 = tf.Variable(tf.zeros([1])) \n",
        "\n",
        "def discriminator(inputs):\n",
        "    hidden = tf.nn.relu(tf.matmul(inputs, D_W1) + D_b1) \n",
        "    output = tf.nn.sigmoid(tf.matmul(hidden, D_W2) + D_b2)\n",
        "    return output\n",
        "  \n",
        "  \n",
        "D_var_list = [D_W1, D_b1, D_W2, D_b2]"
      ],
      "execution_count": 0,
      "outputs": []
    },
    {
      "cell_type": "markdown",
      "metadata": {
        "id": "h-y-JipgpXMR",
        "colab_type": "text"
      },
      "source": [
        "## Noise\n",
        "* 랜덤 노이즈 Z를 생성하고 이를 이용해 랜덤한 이미지를 생성합니다.\n",
        "* 생성된 이미지를 판별할 값을 실제 이미지를 이용해 구합니다."
      ]
    },
    {
      "cell_type": "code",
      "metadata": {
        "id": "0IxTAk-zpKKY",
        "colab_type": "code",
        "colab": {}
      },
      "source": [
        "\n",
        "def get_noise(batch_size, n_noise):\n",
        "    return np.random.normal(size=(batch_size, n_noise))\n",
        "G = generator(Z)\n",
        "\n",
        "D_gene = discriminator(G)\n",
        "D_real = discriminator(X)"
      ],
      "execution_count": 0,
      "outputs": []
    },
    {
      "cell_type": "markdown",
      "metadata": {
        "id": "Bmw9nFmwpaSC",
        "colab_type": "text"
      },
      "source": [
        "## Generator loss\n",
        "\n",
        "* 생성기(G)는 가짜 이미지를 넣었을 때 D가 실제 이미지라고 판단하도록 D_gene을 극대화 해야 합니다.\n",
        "* GAN 논문의 수식에 따르면 loss를 극대화 해야하지만, minimize 하는 최적화 함수를 사용하기 때문에 loss_G에 음수 부호를 붙여줍니다."
      ]
    },
    {
      "cell_type": "code",
      "metadata": {
        "id": "K7_TMqk_pWNY",
        "colab_type": "code",
        "colab": {}
      },
      "source": [
        "loss_G = tf.reduce_mean(tf.log(D_gene))\n",
        "train_G = tf.train.AdamOptimizer(learning_rate).minimize(-loss_G,var_list=G_var_list)"
      ],
      "execution_count": 0,
      "outputs": []
    },
    {
      "cell_type": "markdown",
      "metadata": {
        "id": "1FG1biIap22y",
        "colab_type": "text"
      },
      "source": [
        "## Discriminator loss\n",
        "* 판별기(D)에 진짜 이미지 tf.log(D_real)를 넣었을 때도 가짜 이미지 tf.log(1 - D_gene)를 넣었을 때도 최대값을 갖도록 학습합니다.\n",
        "* GAN 논문의 수식에 따르면 loss를 극대화 해야하지만, minimize 하는 최적화 함수를 사용하기 때문에 loss_G에 음수 부호를 붙여줍니다."
      ]
    },
    {
      "cell_type": "code",
      "metadata": {
        "id": "9ojUsWnNqPPo",
        "colab_type": "code",
        "colab": {}
      },
      "source": [
        "loss_D = tf.reduce_mean(tf.log(D_real) + tf.log(1 - D_gene))\n",
        "train_D = tf.train.AdamOptimizer(learning_rate).minimize(-loss_D,var_list=D_var_list)"
      ],
      "execution_count": 0,
      "outputs": []
    },
    {
      "cell_type": "markdown",
      "metadata": {
        "id": "TmtIeFEkra1C",
        "colab_type": "text"
      },
      "source": [
        "## Model training"
      ]
    },
    {
      "cell_type": "code",
      "metadata": {
        "id": "j7AitbmlqRM0",
        "colab_type": "code",
        "colab": {
          "base_uri": "https://localhost:8080/",
          "height": 903
        },
        "outputId": "8af61ef1-2e39-48e0-9e7f-f5d954c2222d"
      },
      "source": [
        "# 신경망 모델 학습\n",
        "\n",
        "sess = tf.Session() # 세션 생성\n",
        "sess.run(tf.global_variables_initializer()) # 변수 초기화\n",
        "\n",
        "total_batch = int(mnist.train.num_examples/batch_size) # 전체 이미지 갯수/batch_size 해서 한번 학습 할때 100batch_size로 몇번을 해야 1epoch을 도는지 계산\n",
        "loss_val_D, loss_val_G = 0, 0 # 변수 0으로 초기화\n",
        "\n",
        "for epoch in range(total_epoch):\n",
        "    for i in range(total_batch):\n",
        "        batch_xs, batch_ys = mnist.train.next_batch(batch_size)\n",
        "        noise = get_noise(batch_size, n_noise)\n",
        "\n",
        "        # 판별기와 생성기 신경망을 각각 학습\n",
        "        _, loss_val_D = sess.run([train_D, loss_D], feed_dict={X: batch_xs, Z: noise})\n",
        "        _, loss_val_G = sess.run([train_G, loss_G], feed_dict={Z: noise})\n",
        "\n",
        "    print('Epoch:', '%04d' % epoch,\n",
        "          'D loss: {:.4}'.format(loss_val_D),\n",
        "          'G loss: {:.4}'.format(loss_val_G))\n",
        "    \n",
        "    \n",
        "    # 학습이 되어가는 모습을 보기 위해 주기적으로 이미지를 보여줌\n",
        "    if epoch == 0 or (epoch + 1) % 10 == 0:\n",
        "        sample_size = 10\n",
        "        noise = get_noise(sample_size, n_noise)\n",
        "        samples = sess.run(G, feed_dict={Z: noise})\n",
        "        \n",
        "        fig, ax = plt.subplots(1, sample_size, figsize=(sample_size, 1))\n",
        "\n",
        "        for i in range(sample_size):\n",
        "            ax[i].imshow(np.reshape(samples[i], (28, 28)), 'gray')\n",
        "        \n",
        "        plt.show()\n",
        "\n",
        "print('최적화 완료!')"
      ],
      "execution_count": 48,
      "outputs": [
        {
          "output_type": "stream",
          "text": [
            "Epoch: 0000 D loss: -0.7105 G loss: -1.713\n"
          ],
          "name": "stdout"
        },
        {
          "output_type": "display_data",
          "data": {
            "image/png": "[encoded data removed]",
            "text/plain": [
              "<Figure size 720x72 with 10 Axes>"
            ]
          },
          "metadata": {
            "tags": []
          }
        },
        {
          "output_type": "stream",
          "text": [
            "Epoch: 0001 D loss: -0.3395 G loss: -2.325\n",
            "Epoch: 0002 D loss: -0.3042 G loss: -2.184\n",
            "Epoch: 0003 D loss: -0.6714 G loss: -1.335\n",
            "Epoch: 0004 D loss: -0.3739 G loss: -1.871\n",
            "Epoch: 0005 D loss: -0.5185 G loss: -1.913\n",
            "Epoch: 0006 D loss: -0.2026 G loss: -2.783\n",
            "Epoch: 0007 D loss: -0.4215 G loss: -2.174\n",
            "Epoch: 0008 D loss: -0.4247 G loss: -2.078\n",
            "Epoch: 0009 D loss: -0.3632 G loss: -2.252\n"
          ],
          "name": "stdout"
        },
        {
          "output_type": "display_data",
          "data": {
            "image/png": "[encoded data removed]",
            "text/plain": [
              "<Figure size 720x72 with 10 Axes>"
            ]
          },
          "metadata": {
            "tags": []
          }
        },
        {
          "output_type": "stream",
          "text": [
            "Epoch: 0010 D loss: -0.3901 G loss: -2.327\n",
            "Epoch: 0011 D loss: -0.3453 G loss: -2.335\n",
            "Epoch: 0012 D loss: -0.3582 G loss: -2.728\n",
            "Epoch: 0013 D loss: -0.4762 G loss: -2.354\n",
            "Epoch: 0014 D loss: -0.4339 G loss: -2.332\n",
            "Epoch: 0015 D loss: -0.4198 G loss: -2.573\n",
            "Epoch: 0016 D loss: -0.4534 G loss: -2.089\n",
            "Epoch: 0017 D loss: -0.4017 G loss: -2.362\n",
            "Epoch: 0018 D loss: -0.5006 G loss: -2.231\n",
            "Epoch: 0019 D loss: -0.5464 G loss: -2.245\n"
          ],
          "name": "stdout"
        },
        {
          "output_type": "display_data",
          "data": {
            "image/png": "[encoded data removed]",
            "text/plain": [
              "<Figure size 720x72 with 10 Axes>"
            ]
          },
          "metadata": {
            "tags": []
          }
        },
        {
          "output_type": "stream",
          "text": [
            "Epoch: 0020 D loss: -0.4539 G loss: -2.201\n",
            "Epoch: 0021 D loss: -0.4652 G loss: -2.234\n",
            "Epoch: 0022 D loss: -0.5416 G loss: -2.137\n",
            "Epoch: 0023 D loss: -0.6842 G loss: -2.157\n",
            "Epoch: 0024 D loss: -0.668 G loss: -2.122\n",
            "Epoch: 0025 D loss: -0.5112 G loss: -2.355\n",
            "Epoch: 0026 D loss: -0.5532 G loss: -2.163\n",
            "Epoch: 0027 D loss: -0.6378 G loss: -2.132\n",
            "Epoch: 0028 D loss: -0.564 G loss: -2.486\n",
            "Epoch: 0029 D loss: -0.6827 G loss: -1.964\n"
          ],
          "name": "stdout"
        },
        {
          "output_type": "display_data",
          "data": {
            "image/png": "[encoded data removed]",
            "text/plain": [
              "<Figure size 720x72 with 10 Axes>"
            ]
          },
          "metadata": {
            "tags": []
          }
        },
        {
          "output_type": "stream",
          "text": [
            "최적화 완료!\n"
          ],
          "name": "stdout"
        }
      ]
    }
  ]
}