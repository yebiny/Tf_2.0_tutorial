{
  "nbformat": 4,
  "nbformat_minor": 0,
  "metadata": {
    "colab": {
      "name": "Autoencoder.ipynb",
      "version": "0.3.2",
      "provenance": [],
      "include_colab_link": true
    },
    "kernelspec": {
      "name": "python3",
      "display_name": "Python 3"
    },
    "accelerator": "GPU"
  },
  "cells": [
    {
      "cell_type": "markdown",
      "metadata": {
        "id": "view-in-github",
        "colab_type": "text"
      },
      "source": [
        "<a href=\"https://colab.research.google.com/github/yebiny/GANexample/blob/master/Autoencoder.ipynb\" target=\"_parent\"><img src=\"https://colab.research.google.com/assets/colab-badge.svg\" alt=\"Open In Colab\"/></a>"
      ]
    },
    {
      "cell_type": "markdown",
      "metadata": {
        "id": "DEmqwtxCW0qG",
        "colab_type": "text"
      },
      "source": [
        "# Autoencoder"
      ]
    },
    {
      "cell_type": "markdown",
      "metadata": {
        "id": "7ye6nner2nwO",
        "colab_type": "text"
      },
      "source": [
        "## Library import"
      ]
    },
    {
      "cell_type": "code",
      "metadata": {
        "id": "xHjTPtDLVtnc",
        "colab_type": "code",
        "colab": {}
      },
      "source": [
        "import tensorflow as tf\n",
        "import numpy as np\n",
        "import matplotlib.pyplot as plt"
      ],
      "execution_count": 0,
      "outputs": []
    },
    {
      "cell_type": "code",
      "metadata": {
        "id": "fTdYtwIhV621",
        "colab_type": "code",
        "outputId": "7fff4cb0-36c2-4c78-df56-f9befd260fc4",
        "colab": {
          "base_uri": "https://localhost:8080/",
          "height": 89
        }
      },
      "source": [
        "#MNIST 모듈 임포트\n",
        "from tensorflow.examples.tutorials.mnist import input_data\n",
        "mnist = input_data.read_data_sets(\"MNIST_data/\", one_hot=True)"
      ],
      "execution_count": 20,
      "outputs": [
        {
          "output_type": "stream",
          "text": [
            "Extracting MNIST_data/train-images-idx3-ubyte.gz\n",
            "Extracting MNIST_data/train-labels-idx1-ubyte.gz\n",
            "Extracting MNIST_data/t10k-images-idx3-ubyte.gz\n",
            "Extracting MNIST_data/t10k-labels-idx1-ubyte.gz\n"
          ],
          "name": "stdout"
        }
      ]
    },
    {
      "cell_type": "markdown",
      "metadata": {
        "id": "MPGUlbrh2tYd",
        "colab_type": "text"
      },
      "source": [
        "## Parameters"
      ]
    },
    {
      "cell_type": "code",
      "metadata": {
        "id": "5sEcy4FJWifF",
        "colab_type": "code",
        "colab": {}
      },
      "source": [
        "learning_rate = 0.01 #최적화 함수에서 사용할 학습률\n",
        "training_epoch = 20  #전체 데이터를 학습할 총 횟수\n",
        "batch_size = 100     #미니배치로 한번에 학습할 데이터(이미지)의 갯수\n",
        "n_hidden = 256       #은닉층의 뉴런 개수\n",
        "n_input = 28*28      #이미지 크기 28*28 = 784\n",
        "\n",
        "\n",
        "# input X 플레이스 홀더\n",
        "X = tf.placeholder(tf.float32, [None, n_input])"
      ],
      "execution_count": 0,
      "outputs": []
    },
    {
      "cell_type": "markdown",
      "metadata": {
        "id": "U382Show20Pt",
        "colab_type": "text"
      },
      "source": [
        "## Encoder"
      ]
    },
    {
      "cell_type": "code",
      "metadata": {
        "id": "6F-Xrou8WlEM",
        "colab_type": "code",
        "colab": {}
      },
      "source": [
        "W_encode = tf.Variable(tf.random_normal([n_input, n_hidden]))  \n",
        "b_encode = tf.Variable(tf.random_normal([n_hidden]))\n",
        "encoder = tf.nn.sigmoid(tf.add(tf.matmul(X,W_encode),b_encode)) "
      ],
      "execution_count": 0,
      "outputs": []
    },
    {
      "cell_type": "markdown",
      "metadata": {
        "id": "xkMBR4vZ25SN",
        "colab_type": "text"
      },
      "source": [
        "## Decoder"
      ]
    },
    {
      "cell_type": "code",
      "metadata": {
        "id": "VHLV9RN_27Mk",
        "colab_type": "code",
        "colab": {}
      },
      "source": [
        "W_decode = tf.Variable(tf.random_normal([n_hidden, n_input])) \n",
        "b_decode = tf.Variable(tf.random_normal([n_input])) \n",
        "decoder = tf.nn.sigmoid(tf.add(tf.matmul(encoder,W_decode),b_decode)) "
      ],
      "execution_count": 0,
      "outputs": []
    },
    {
      "cell_type": "markdown",
      "metadata": {
        "id": "qJfbfK-Z3DHc",
        "colab_type": "text"
      },
      "source": [
        "## Cost, Optimizer"
      ]
    },
    {
      "cell_type": "code",
      "metadata": {
        "id": "4Ym3EaEa3I-V",
        "colab_type": "code",
        "colab": {}
      },
      "source": [
        "cost = tf.reduce_mean(tf.pow(X-decoder,2))\n",
        "optimizer = tf.train.RMSPropOptimizer(learning_rate).minimize(cost)"
      ],
      "execution_count": 0,
      "outputs": []
    },
    {
      "cell_type": "markdown",
      "metadata": {
        "id": "pyZEE9w53a9c",
        "colab_type": "text"
      },
      "source": [
        "## Model training"
      ]
    },
    {
      "cell_type": "code",
      "metadata": {
        "id": "cOkkbWwWWnrb",
        "colab_type": "code",
        "outputId": "396f5179-ee64-4249-b83b-01aa884c456c",
        "colab": {
          "base_uri": "https://localhost:8080/",
          "height": 395
        }
      },
      "source": [
        "#학습진행\n",
        "init = tf.global_variables_initializer() #변수 초기화\n",
        "sess = tf.Session() # Session 오픈\n",
        "sess.run(init) # 텐서플로우로 변수들 초기화 완료(학습 진행 준비 완료)\n",
        "\n",
        "total_batch = int(mnist.train.num_examples / batch_size) #배치 갯수\n",
        "\n",
        "for epoch in range(training_epoch): #train 테이터 셋으로 부터 전체 배치를 불러옴\n",
        "    total_cost = 0\n",
        "    \n",
        "    for i in range(total_batch): #모든 배치들에 대하여 최적화 수행\n",
        "        batch_xs, batch_ys = mnist.train.next_batch(batch_size) # 배치사이즈에 맞게 x, y값 생성\n",
        "        _, cost_val = sess.run([optimizer, cost], feed_dict={X:batch_xs}) # X값(이미지데이터)를 통해 최적화 진행\n",
        "        total_cost += cost_val \n",
        "        \n",
        "    print('Epoct:', '%04d' % (epoch + 1), 'Avg.cost = ', '{:.4f}'.format(total_cost/total_batch)) # Epoct 별 cost 보여줌\n",
        "\n",
        "print('최적화 완료!')"
      ],
      "execution_count": 30,
      "outputs": [
        {
          "output_type": "stream",
          "text": [
            "Epoct: 0001 Avg.cost =  0.1956\n",
            "Epoct: 0002 Avg.cost =  0.0579\n",
            "Epoct: 0003 Avg.cost =  0.0465\n",
            "Epoct: 0004 Avg.cost =  0.0416\n",
            "Epoct: 0005 Avg.cost =  0.0382\n",
            "Epoct: 0006 Avg.cost =  0.0360\n",
            "Epoct: 0007 Avg.cost =  0.0350\n",
            "Epoct: 0008 Avg.cost =  0.0334\n",
            "Epoct: 0009 Avg.cost =  0.0325\n",
            "Epoct: 0010 Avg.cost =  0.0321\n",
            "Epoct: 0011 Avg.cost =  0.0315\n",
            "Epoct: 0012 Avg.cost =  0.0312\n",
            "Epoct: 0013 Avg.cost =  0.0308\n",
            "Epoct: 0014 Avg.cost =  0.0305\n",
            "Epoct: 0015 Avg.cost =  0.0302\n",
            "Epoct: 0016 Avg.cost =  0.0300\n",
            "Epoct: 0017 Avg.cost =  0.0298\n",
            "Epoct: 0018 Avg.cost =  0.0297\n",
            "Epoct: 0019 Avg.cost =  0.0295\n",
            "Epoct: 0020 Avg.cost =  0.0285\n",
            "최적화 완료!\n"
          ],
          "name": "stdout"
        }
      ]
    },
    {
      "cell_type": "markdown",
      "metadata": {
        "id": "iiuxry2O3kU8",
        "colab_type": "text"
      },
      "source": [
        "## Result"
      ]
    },
    {
      "cell_type": "code",
      "metadata": {
        "id": "yLQBVZH9XanU",
        "colab_type": "code",
        "outputId": "a6038caf-3e89-4802-fb86-fd33f95591cc",
        "colab": {
          "base_uri": "https://localhost:8080/",
          "height": 158
        }
      },
      "source": [
        "#10개의 확인 이미지 추출\n",
        "sample_size = 10\n",
        "samples = sess.run(decoder, feed_dict={X:mnist.test.images[:sample_size]}) # 디코더로 생성해낸 결과\n",
        "\n",
        "fig, ax = plt.subplots(2, sample_size, figsize=(sample_size, 2)) # 이미지를 2줄로 보여줄 수 있도록 셋팅\n",
        "\n",
        "for i in range(sample_size):\n",
        "    ax[0][i].set_axis_off() # 입력된 이미지\n",
        "    ax[1][i].set_axis_off() # 생성된 이미지\n",
        "    ax[0][i].imshow(np.reshape(mnist.test.images[i], (28,28)))\n",
        "    ax[1][i].imshow(np.reshape(samples[i], (28,28)))\n",
        "\n",
        "plt.show()"
      ],
      "execution_count": 31,
      "outputs": [
        {
          "output_type": "display_data",
          "data": {
            "image/png": "[encoded data removed]",
            "text/plain": [
              "<Figure size 720x144 with 20 Axes>"
            ]
          },
          "metadata": {
            "tags": []
          }
        }
      ]
    },
    {
      "cell_type": "code",
      "metadata": {
        "id": "T5Myx4N2XhL1",
        "colab_type": "code",
        "colab": {}
      },
      "source": [
        ""
      ],
      "execution_count": 0,
      "outputs": []
    }
  ]
}